{
 "cells": [
  {
   "cell_type": "markdown",
   "metadata": {},
   "source": [
    "2. Examine the data:\n",
    "    * Look at the datasets shape(rows and columns) * Peek inside the dataset by looking at its first 10 or 20 rows. \n",
    "    * Perform fundamental statistical analysis such as mean,sd,minimum,maximum etc... \n",
    "    * Check and handle missing data step\n",
    "3. Split the data into training and test subsets \n",
    "    * 80% for training and 20% for testing \n",
    "    * The training subset is used to train the model \n",
    "    * The testing subset is used to evaluate how well the model generalizes to unseen data.(data not used in training)\n",
    "4. Visualising the data \n",
    "    * After splitting the dataset plot some graphs for better understanding of the investigating data \n",
    "    * Ex: Scatter plots are easy to investigate the relationship between the features and the target variable\n",
    "5. Data preprocessing \n",
    "    * The data that we receieved is not ready to use immediately.There will be some missing values. \n",
    "    * Ex:Red,Green,Blue(Textual or categorical)\n",
    "\n",
    "    * A range of features that differ too much(A feature ranging 0-10000 and another from 0-5) \n",
    "    * Also called as data cleaning.Therefore we need to process the data before passing it to the model.\n",
    "6. Prime the models \n",
    "    * Based on the previous steps of analysing the dataset,narrow down appropriate machine learning algorithms and build modles using those algorithms.\n",
    "7. Evaluate the models \n",
    "    * After building the models,it must be evaluated using different matrix and select the best model for deployment."
   ]
  },
  {
   "cell_type": "code",
   "execution_count": 1,
   "metadata": {},
   "outputs": [
    {
     "name": "stdout",
     "output_type": "stream",
     "text": [
      "Requirement already satisfied: scikit-learn in d:\\college\\value_added_course\\.conda\\lib\\site-packages (1.4.1.post1)\n",
      "Requirement already satisfied: numpy<2.0,>=1.19.5 in c:\\users\\pranavraj h\\appdata\\roaming\\python\\python310\\site-packages (from scikit-learn) (1.25.1)\n",
      "Requirement already satisfied: scipy>=1.6.0 in d:\\college\\value_added_course\\.conda\\lib\\site-packages (from scikit-learn) (1.12.0)\n",
      "Requirement already satisfied: joblib>=1.2.0 in d:\\college\\value_added_course\\.conda\\lib\\site-packages (from scikit-learn) (1.3.2)\n",
      "Requirement already satisfied: threadpoolctl>=2.0.0 in d:\\college\\value_added_course\\.conda\\lib\\site-packages (from scikit-learn) (3.3.0)\n",
      "Note: you may need to restart the kernel to use updated packages.\n"
     ]
    }
   ],
   "source": [
    "%pip install scikit-learn"
   ]
  },
  {
   "cell_type": "code",
   "execution_count": 2,
   "metadata": {},
   "outputs": [],
   "source": [
    "import numpy as np\n",
    "import matplotlib.pyplot as plt\n",
    "import pandas as pd\n"
   ]
  },
  {
   "cell_type": "code",
   "execution_count": 3,
   "metadata": {},
   "outputs": [
    {
     "name": "stdout",
     "output_type": "stream",
     "text": [
      "36\n",
      "[ 6  8 10 12]\n",
      "[10 26]\n"
     ]
    }
   ],
   "source": [
    "arr1 = np.array([[1, 2, 3, 4], [5, 6, 7, 8]])\n",
    "print(arr1.sum())\n",
    "print(arr1.sum(axis=0)) #columnwise\n",
    "print(arr1.sum(axis=1))"
   ]
  },
  {
   "cell_type": "code",
   "execution_count": 4,
   "metadata": {},
   "outputs": [
    {
     "name": "stdout",
     "output_type": "stream",
     "text": [
      "4.5\n",
      "[3. 4. 5. 6.]\n",
      "[2.5 6.5]\n"
     ]
    }
   ],
   "source": [
    "print(arr1.mean())\n",
    "print(arr1.mean(axis=0))\n",
    "print(arr1.mean(axis=1))"
   ]
  },
  {
   "cell_type": "code",
   "execution_count": 5,
   "metadata": {},
   "outputs": [
    {
     "name": "stdout",
     "output_type": "stream",
     "text": [
      "[[1 2]\n",
      " [3 4]\n",
      " [5 6]\n",
      " [7 8]]\n"
     ]
    }
   ],
   "source": [
    "arr1 = np.array([[1, 2], [3, 4], [5, 6]])\n",
    "arr2 = np.array([[7, 8]])\n",
    "combined_array = np.concatenate((arr1, arr2))\n",
    "print(combined_array)"
   ]
  },
  {
   "cell_type": "markdown",
   "metadata": {},
   "source": [
    "Scikit-learn is a massive Python library that comes with an extensive assortment of classes and functions for performing various machine learning tasks.\n",
    "These classes and functions are grouped into numerous modules that are intuitively named.\n",
    "For instance, \n",
    "- classes for building decision tree-based models are found in the sklearn.tree module. \n",
    "- classes for data preprocessing are in the sklearn.preprocessing module.\n",
    "The classes themselves are also named appropriately."
   ]
  },
  {
   "cell_type": "markdown",
   "metadata": {},
   "source": [
    "## Estimators and fit() method\n",
    "\n",
    "The estimator object learns from input data using fit() method.\n",
    "This fit() method in this class estimates mean and variance of the features in the input dataset and stores the results in mean_,var_ attributes.\n",
    "\n",
    "## Transformers and transform() method\n",
    "\n",
    "It transforms the datasets using transform() method .\n",
    "The transform() method accepts array as input and uses the parameters calculated by the fit method of the same object and returns the transformed dataset.\n",
    "\n",
    "## Standardization\n",
    "\n",
    "The objective of scaling a dataset using StandardScalar is to achieve a mean of zero and variance of one.This process is known as standardization. It is necesaary for machine learning algorithms."
   ]
  },
  {
   "cell_type": "code",
   "execution_count": 6,
   "metadata": {},
   "outputs": [
    {
     "name": "stdout",
     "output_type": "stream",
     "text": [
      "[2.   5.75]\n",
      "[ 0.5    15.6875]\n",
      "[0.70710678 3.96074488]\n"
     ]
    }
   ],
   "source": [
    "import pandas as pd\n",
    "from sklearn.preprocessing import StandardScaler\n",
    "X = pd.DataFrame({'A':[1, 2, 3, 2], 'B':[11, 1, 8, 3]})\n",
    "scaler = StandardScaler() \n",
    "scaler.fit(X) \n",
    "print(scaler.mean_)\n",
    "print(scaler.var_)\n",
    "print(scaler.scale_)"
   ]
  },
  {
   "cell_type": "code",
   "execution_count": 7,
   "metadata": {},
   "outputs": [
    {
     "name": "stdout",
     "output_type": "stream",
     "text": [
      "[[-1.41421356  1.32550825]\n",
      " [ 0.         -1.19926937]\n",
      " [ 1.41421356  0.56807496]\n",
      " [ 0.         -0.69431384]]\n"
     ]
    }
   ],
   "source": [
    "X_scaled=scaler.transform(X)\n",
    "print(X_scaled)"
   ]
  },
  {
   "cell_type": "markdown",
   "metadata": {},
   "source": [
    "## Predictors and predict() method\n",
    "\n",
    "It is used to make predictions for given dataset with help of predict() method.\n",
    "The predict method uses the parameters calculated by the fit() method"
   ]
  },
  {
   "cell_type": "markdown",
   "metadata": {},
   "source": [
    "# Data preprocessing with scikit learn\n",
    "\n",
    "Data preprocessing involves handling missing data,encoding text and categorical data and features scaling."
   ]
  },
  {
   "cell_type": "code",
   "execution_count": 8,
   "metadata": {},
   "outputs": [
    {
     "name": "stdout",
     "output_type": "stream",
     "text": [
      "   Color  Years  Strength  Height       Weight Dangerous\n",
      "0  Green    2.3     210.0   170.0  20 to 30 kg       Yes\n",
      "1    Red    4.1     100.0     NaN  10 to 20 kg        No\n",
      "2   Blue    1.4       NaN   412.0   0 to 10 kg        No\n",
      "3  Green    NaN     313.0   123.0  10 to 20 kg       Yes\n",
      "4    NaN    5.2     512.0   372.0   0 to 10 kg       Yes\n"
     ]
    }
   ],
   "source": [
    "df = pd.read_csv('test_data.csv')\n",
    "print(df)"
   ]
  },
  {
   "cell_type": "code",
   "execution_count": 9,
   "metadata": {},
   "outputs": [],
   "source": [
    "from sklearn.impute import SimpleImputer"
   ]
  },
  {
   "cell_type": "code",
   "execution_count": 10,
   "metadata": {},
   "outputs": [],
   "source": [
    "imp = SimpleImputer(missing_values=np.nan, strategy='mean')"
   ]
  },
  {
   "cell_type": "code",
   "execution_count": 11,
   "metadata": {},
   "outputs": [
    {
     "name": "stdout",
     "output_type": "stream",
     "text": [
      "   Color  Years  Strength  Height       Weight Dangerous\n",
      "0  Green   2.30    210.00  170.00  20 to 30 kg       Yes\n",
      "1    Red   4.10    100.00  269.25  10 to 20 kg        No\n",
      "2   Blue   1.40    283.75  412.00   0 to 10 kg        No\n",
      "3  Green   3.25    313.00  123.00  10 to 20 kg       Yes\n",
      "4    NaN   5.20    512.00  372.00   0 to 10 kg       Yes\n"
     ]
    }
   ],
   "source": [
    "imp.fit(df[['Years', 'Strength', 'Height']])\n",
    "df[['Years', 'Strength', 'Height']] = imp.transform(df[['Years', 'Strength', 'Height']])\n",
    "print(df)"
   ]
  },
  {
   "cell_type": "code",
   "execution_count": 12,
   "metadata": {},
   "outputs": [
    {
     "name": "stdout",
     "output_type": "stream",
     "text": [
      "[  3.25 283.75 269.25]\n"
     ]
    }
   ],
   "source": [
    "print(imp.statistics_)"
   ]
  },
  {
   "cell_type": "code",
   "execution_count": 13,
   "metadata": {},
   "outputs": [
    {
     "name": "stdout",
     "output_type": "stream",
     "text": [
      "   Color  Years  Strength  Height       Weight Dangerous\n",
      "0  Green   2.30    210.00  170.00  20 to 30 kg       Yes\n",
      "1    Red   4.10    100.00  269.25  10 to 20 kg        No\n",
      "2   Blue   1.40    283.75  412.00   0 to 10 kg        No\n",
      "3  Green   3.25    313.00  123.00  10 to 20 kg       Yes\n",
      "4  Green   5.20    512.00  372.00   0 to 10 kg       Yes\n"
     ]
    }
   ],
   "source": [
    "imp.set_params(strategy='most_frequent')\n",
    "imp.fit(df[['Color']])\n",
    "df[['Color']] = imp.transform(df[['Color']])\n",
    "print(df)"
   ]
  },
  {
   "cell_type": "markdown",
   "metadata": {},
   "source": [
    "It can be done with OrdinalEncoder or LabelEncoder class. OrdinalEncoder is desined to work with features of the dataset while LabelEncoder is designed to work with labels. The fit method of LabelEncoder requires a 1D array but OrdinalEncoder class requires 2D array."
   ]
  },
  {
   "cell_type": "code",
   "execution_count": 14,
   "metadata": {},
   "outputs": [
    {
     "name": "stdout",
     "output_type": "stream",
     "text": [
      "   Color  Years  Strength  Height       Weight  Dangerous\n",
      "0  Green   2.30    210.00  170.00  20 to 30 kg          1\n",
      "1    Red   4.10    100.00  269.25  10 to 20 kg          0\n",
      "2   Blue   1.40    283.75  412.00   0 to 10 kg          0\n",
      "3  Green   3.25    313.00  123.00  10 to 20 kg          1\n",
      "4  Green   5.20    512.00  372.00   0 to 10 kg          1\n"
     ]
    }
   ],
   "source": [
    "from sklearn.preprocessing import LabelEncoder \n",
    "le = LabelEncoder()\n",
    "df['Dangerous'] = le.fit_transform(df['Dangerous'])\n",
    "print(df)"
   ]
  },
  {
   "cell_type": "markdown",
   "metadata": {},
   "source": [
    "## Hot Encoding algorithm\n",
    "\n",
    "A common approach to encode non ordinal features.\n",
    "Here each categorical value is converted to a new column and assigned a value of 0 or 1.\n",
    "OneHotEncoder class in sklearn.preprocessing module is used for this purpose.\n",
    "The OneHotEncoder class returns as sparse matrix by default.\n",
    "A sparse matrix is a matrix which consists of very few non zero values."
   ]
  },
  {
   "cell_type": "code",
   "execution_count": 15,
   "metadata": {},
   "outputs": [
    {
     "name": "stdout",
     "output_type": "stream",
     "text": [
      "   Color  Years  Strength  Height       Weight  Dangerous  Color_Blue  \\\n",
      "0  Green   2.30    210.00  170.00  20 to 30 kg          1         0.0   \n",
      "1    Red   4.10    100.00  269.25  10 to 20 kg          0         0.0   \n",
      "2   Blue   1.40    283.75  412.00   0 to 10 kg          0         1.0   \n",
      "3  Green   3.25    313.00  123.00  10 to 20 kg          1         0.0   \n",
      "4  Green   5.20    512.00  372.00   0 to 10 kg          1         0.0   \n",
      "\n",
      "   Color_Green  Color_Red  \n",
      "0          1.0        0.0  \n",
      "1          0.0        1.0  \n",
      "2          0.0        0.0  \n",
      "3          1.0        0.0  \n",
      "4          1.0        0.0  \n"
     ]
    }
   ],
   "source": [
    "from sklearn.preprocessing import OneHotEncoder\n",
    "ohe = OneHotEncoder()\n",
    "color_encoded = ohe.fit_transform(df[['Color']])\n",
    "df2 = pd.DataFrame(color_encoded.toarray(), columns = ohe.get_feature_names_out())\n",
    "df = pd.concat((df, df2), axis = 1)\n",
    "print(df)"
   ]
  },
  {
   "cell_type": "markdown",
   "metadata": {},
   "source": [
    "## Feature scaling\n",
    "\n",
    "- It is a technique for calibrating the range of features in a dataset.\n",
    "- It ensures that features do not have vastly different scales and prevents features with large values from dominating the result of the algorithm\n",
    "\n",
    "`Euclidean distance = sqrt((p-q)^2+(r-s)^2)`"
   ]
  },
  {
   "cell_type": "markdown",
   "metadata": {},
   "source": [
    "## Standardization: \n",
    "Standardization scales a feature such that mean become 0 and variance becomes 1."
   ]
  },
  {
   "cell_type": "code",
   "execution_count": 16,
   "metadata": {},
   "outputs": [
    {
     "name": "stdout",
     "output_type": "stream",
     "text": [
      "   Color     Years  Strength    Height       Weight  Dangerous  Color_Blue  \\\n",
      "0  Green  0.236842  0.266990  0.162630  20 to 30 kg          1         0.0   \n",
      "1    Red  0.710526  0.000000  0.506055  10 to 20 kg          0         0.0   \n",
      "2   Blue  0.000000  0.445995  1.000000   0 to 10 kg          0         1.0   \n",
      "3  Green  0.486842  0.516990  0.000000  10 to 20 kg          1         0.0   \n",
      "4  Green  1.000000  1.000000  0.861592   0 to 10 kg          1         0.0   \n",
      "\n",
      "   Color_Green  Color_Red  \n",
      "0          1.0        0.0  \n",
      "1          0.0        1.0  \n",
      "2          0.0        0.0  \n",
      "3          1.0        0.0  \n",
      "4          1.0        0.0  \n"
     ]
    }
   ],
   "source": [
    "from sklearn.preprocessing import MinMaxScaler \n",
    "mms = MinMaxScaler()\n",
    "df[['Years', 'Strength', 'Height']] = mms.fit_transform(df[['Years','Strength', 'Height']])\n",
    "print(df) #Here years,strength and height are scaled to a range of 1."
   ]
  },
  {
   "cell_type": "markdown",
   "metadata": {},
   "source": [
    "## Pipeline and column transformer\n",
    "\n",
    "- Pipeline allows us to chain different machine learning tasks by combining multiple estimators into a composite estimator.\n",
    "- For example we can use a pipeline to chain a simpleimputer estimator with MinMaxScalar estimator.\n",
    "- All but the last estimator in the pipeline must have the transform method while the last estimator only needs to have a fit method."
   ]
  },
  {
   "cell_type": "markdown",
   "metadata": {},
   "source": [
    "1. we create a dataframe with 1 column and 5 rows.\n",
    "2. Import pipeline class from sklearn.pipeline\n",
    "3. Pipeline constructor accepts a list of (Name,Estimator) as input. These tuples represent a task in the pipeline and are arranged according to the order of task. Name is user defined string whereas estimator is the estimator class needed to perform the task. Ex: imp and scaler are names whereas simpleImputer and MinMaxScaler are estimators.\n",
    "Column transformer\n",
    "\n",
    "It is similar to pipeline except that it is only for data transformation.\n",
    "All the estimators in the column transformer must have transform() method."
   ]
  },
  {
   "cell_type": "code",
   "execution_count": 17,
   "metadata": {},
   "outputs": [
    {
     "name": "stdout",
     "output_type": "stream",
     "text": [
      "[[ 1.   0. ]\n",
      " [ 4.   0.3]\n",
      " [ 6.   nan]\n",
      " [ 8.   0.7]\n",
      " [11.   1. ]]\n"
     ]
    }
   ],
   "source": [
    "from sklearn.compose import ColumnTransformer\n",
    "\n",
    "\n",
    "data = pd.DataFrame([[1], [4], [np.NaN], [8], [11]], columns=['A'])\n",
    "\n",
    "\n",
    "ct = ColumnTransformer([('imp', SimpleImputer(strategy=\"mean\"), ['A']), ('scaler', MinMaxScaler(), ['A']) ])\n",
    "print(ct.fit_transform(data))"
   ]
  },
  {
   "cell_type": "markdown",
   "metadata": {},
   "source": [
    "## Model Evaluation with scikit learn\n",
    "\n",
    "- Supervised Machine Learning evaluates typically involves comparing the results predicted by our model with the actual labels in the dataset.\n",
    "- The classification models predict labels with discrete values(Ex:dog,cat,bird)\n",
    "- The Regression models predict labels with continuous values.(Ex:1.32,53.7,25.5)\n",
    "* Commonly used classfication metrics are \n",
    "    1. Accuracy \n",
    "    2. Precision \n",
    "    3. Recall"
   ]
  },
  {
   "cell_type": "markdown",
   "metadata": {},
   "source": [
    "### Accuracy refers to the fraction of instances predicted correctly by our model.\n",
    "\n",
    "- It ranges from 0-1 with 1 indicating 100% accuracy.\n",
    "- accuracy_score() function in sklearn.metrics module\n",
    "- The function requires true labels and predicted labels."
   ]
  },
  {
   "cell_type": "code",
   "execution_count": 20,
   "metadata": {},
   "outputs": [
    {
     "name": "stdout",
     "output_type": "stream",
     "text": [
      "0.8333333333333334\n"
     ]
    }
   ],
   "source": [
    "from sklearn.metrics import accuracy_score\n",
    "true=['Cat','Cat','Dog','Dog','Cat','Dog']\n",
    "pred=['Cat','Cat','Dog','Dog','Cat','Cat']\n",
    "score=accuracy_score(true,pred)\n",
    "print(score)"
   ]
  },
  {
   "cell_type": "markdown",
   "metadata": {},
   "source": [
    "### Precision and Recall\n",
    "\n",
    "- To understand precision and recall we need to know confusion matrix\n",
    "\n",
    "` true=['Cat','Cat','Dog','Dog','Cat','Dog'] `\n",
    "\n",
    "` pred=['Cat','Cat','Cat','Dog','Cat','Cat'] `\n",
    "\n",
    "True value predicted value Dog Cat\n",
    "\n",
    "Dog 1(TP) 2(FN)\n",
    "\n",
    "Cat 0(FP) 3(TN)\n",
    "\n",
    "where TP is True Positive,FN is False Negative,FP is False Positive,TN is True Negative.\n",
    "\n",
    "In the above example if we consider dog as positive and cat as negative,if an instance is predicted as positive it can be either true positive or false positive.\n",
    "\n",
    "TP is an outcome where an instance is correctly predicted.(1) FP is an outcome where it is incorrectly precicted.(0) If an instance is predicted as negative,it can either be False Negative or True Negative outcome. FN is an outcome where an instance is incorrectly predicted as negative(2) TN is and outcome where an instance is correctly predicted as Negative.(3) Among 5 negative 2 of them are predicted wrong and 3 of them are predicted correctly.\n",
    "Our model's objective is to minimize both FP and FN since both are undesirable outcomes.\n",
    "\n",
    "A model used to predict the presence of malignant tumour,we want to minimize FN(Negative indicating presence of tumour) outcomes. On the other hand if we are training to classify investment oppurtunities we have to minimize FP outcomes. Since we dont want to invest in something that ends up being unprofitable.\n",
    "TP,FP,FN are used in calculating precision and Recall Precision=TP/(TP+FP) For our example TP=1/(1+0)=1\n",
    "\n",
    "Recall measures the percentage accuracy of our classifier when the true value of an instance is positive. Recall=TP/(TP+FN) For our example TP=1/(1+2)=1/3=0.33"
   ]
  },
  {
   "cell_type": "code",
   "execution_count": 24,
   "metadata": {},
   "outputs": [
    {
     "name": "stdout",
     "output_type": "stream",
     "text": [
      "1.0\n",
      "0.3333333333333333\n"
     ]
    }
   ],
   "source": [
    "from sklearn.metrics import precision_score, recall_score\n",
    "\n",
    "\n",
    "true = ['Cat', 'Cat', 'Dog', 'Dog', 'Cat', 'Dog']\n",
    "pred = ['Cat', 'Cat', 'Cat', 'Dog', 'Cat', 'Cat']\n",
    "\n",
    "\n",
    "precision = precision_score(true, pred, pos_label = 'Dog')\n",
    "recall = recall_score(true, pred, pos_label = 'Dog')\n",
    "\n",
    "\n",
    "print(precision)\n",
    "print(recall)"
   ]
  },
  {
   "cell_type": "code",
   "execution_count": 22,
   "metadata": {},
   "outputs": [
    {
     "name": "stdout",
     "output_type": "stream",
     "text": [
      "0.6\n",
      "1.0\n"
     ]
    }
   ],
   "source": [
    "precision = precision_score(true, pred, pos_label = 'Cat')\n",
    "recall = recall_score(true, pred, pos_label = 'Cat')\n",
    "\n",
    "\n",
    "print(precision)\n",
    "print(recall)"
   ]
  },
  {
   "cell_type": "markdown",
   "metadata": {},
   "source": [
    "### Regression metrics\n",
    "\n",
    "1. Root Mean Square Error\n",
    "2. R-Squared Error\n",
    "\n",
    "### Root Mean Square Error(RMSE)\n",
    "\n",
    "It is the square root of Mean Squared Error(MSE)\n",
    "MSE is determined by calculating mean of the squared differences between the true and predicted values.\n",
    "\n",
    "Ex: pred=[2.1,1.4,5.6,7.9] true=[2.5,1.6,5.1,6.8] Step 1:Find the differences between the true and predicted values diff=[-0.4,-0.2,0.5,1.1] sqr=[0.16,0.04,0.25,1.21] mean=0.415 RMSE=0.644\n",
    "\n",
    "Advantages: \n",
    "1. The larger errors are amplified compared to smaller errors.This forces our model to focus on reducing large errors. \n",
    "2. RMSE uses same unit as target variable and makes it easier for us to interpret the RMSE.\n",
    "\n",
    "### R-Squared Error:\n",
    "\n",
    "It measures how much of variance is in the target variable can be explained by our model.\n",
    "Variance is a measure of how far the true values are from their mean.\n",
    "\n",
    "Ex: pred=[2.1,1.4,5.6,7.9] true=[2.5,1.6,5.1,6.8] difference between pred and true values=[-0.4,-0.2,0.5,1.1] sqr=[0.16,0.04,0.25,1.21] ssd=1.66 mean of true values=4 Diff b/w true values and mean=[-1.5,-2.4,1.1,2.8] squeared differnces=[2.25,5.76,1.21,7.84] sum of squared differences(ssd)=17.06 R-Squared = 1-(1.66/17.06) = 0.902696\n"
   ]
  },
  {
   "cell_type": "code",
   "execution_count": 25,
   "metadata": {},
   "outputs": [
    {
     "name": "stdout",
     "output_type": "stream",
     "text": [
      "0.6442049363362565\n",
      "0.902696365767878\n"
     ]
    },
    {
     "name": "stderr",
     "output_type": "stream",
     "text": [
      "d:\\College\\value_added_course\\.conda\\lib\\site-packages\\sklearn\\metrics\\_regression.py:483: FutureWarning: 'squared' is deprecated in version 1.4 and will be removed in 1.6. To calculate the root mean squared error, use the function'root_mean_squared_error'.\n",
      "  warnings.warn(\n"
     ]
    }
   ],
   "source": [
    "from sklearn.metrics import r2_score, mean_squared_error\n",
    "pred = [2.1, 1.4, 5.6, 7.9]\n",
    "true = [2.5, 1.6, 5.1, 6.8]\n",
    "RMSE = mean_squared_error(true, pred, squared=False)#mean squared error function gives us mse by default\n",
    "#To get RMSE we need to pass squared=False\n",
    "r2 = r2_score(true, pred)\n",
    "print(RMSE)\n",
    "print(r2)"
   ]
  },
  {
   "cell_type": "markdown",
   "metadata": {},
   "source": [
    "## There are several approaches to model selection \n",
    "\n",
    "### Method 1 \n",
    "1. Train Test Split One approach is to split our dataset into training and test subsets and train differenct models using the training set. \n",
    "2. Evaluate the model on the training set and select the best performing model.\n",
    "\n",
    "### Method 2: k-fold tross-validation\n",
    "- It involves splitting our dataset into k subsets known as k folds.\n",
    "- Out of the k folds k-1 of them are used for training while the remaining fold is used for validation.\n",
    "- The algorithm is trained and tested k times,each time using a new fold as the validation set.\n",
    "- Finally the result of the process is the average of the results obtained on each run."
   ]
  },
  {
   "cell_type": "markdown",
   "metadata": {},
   "source": [
    "Regression\n",
    "\n",
    "Regression is a form of analysis that attempts to determine the relationship between a dependent variable(target variable) and a series of other variables(independent variables or predictor variables or features).\n",
    "After determining the relationship we can use that to make predictions for the target variable when given new feature values.\n",
    "The target variable in regression is always continuous values.\n",
    "\n",
    "Commonly used machine learning algorithms for regression 1.Linear Regression 2.Polynomial Regression 3.Support vector Regression\n",
    "Linear Regression\n",
    "\n",
    "It attempts to find a linear relationship between the target and predictor variable.\n",
    "It is expressed as y=a0 + a1x1 + a2x2 + a3x3 +.......+ anxn where y is the target variable and x1,x2,x3 are the predictor varibales or features.\n",
    "a0,a1,a2 are the parameters(coefficients or weights)\n",
    "The main objective of the linear regression is to determine the best values for these parameters.\n",
    "\n",
    "Single Linear Regression\n",
    "\n",
    "A Single Linear Regression that involves only one feature."
   ]
  },
  {
   "cell_type": "code",
   "execution_count": 26,
   "metadata": {},
   "outputs": [
    {
     "data": {
      "text/html": [
       "<div>\n",
       "<style scoped>\n",
       "    .dataframe tbody tr th:only-of-type {\n",
       "        vertical-align: middle;\n",
       "    }\n",
       "\n",
       "    .dataframe tbody tr th {\n",
       "        vertical-align: top;\n",
       "    }\n",
       "\n",
       "    .dataframe thead th {\n",
       "        text-align: right;\n",
       "    }\n",
       "</style>\n",
       "<table border=\"1\" class=\"dataframe\">\n",
       "  <thead>\n",
       "    <tr style=\"text-align: right;\">\n",
       "      <th></th>\n",
       "      <th>Floor Area (sqft)</th>\n",
       "      <th>Value ($1000)</th>\n",
       "    </tr>\n",
       "  </thead>\n",
       "  <tbody>\n",
       "    <tr>\n",
       "      <th>0</th>\n",
       "      <td>665.0</td>\n",
       "      <td>161.0</td>\n",
       "    </tr>\n",
       "    <tr>\n",
       "      <th>1</th>\n",
       "      <td>442.0</td>\n",
       "      <td>83.0</td>\n",
       "    </tr>\n",
       "    <tr>\n",
       "      <th>2</th>\n",
       "      <td>302.0</td>\n",
       "      <td>53.0</td>\n",
       "    </tr>\n",
       "    <tr>\n",
       "      <th>3</th>\n",
       "      <td>336.0</td>\n",
       "      <td>57.0</td>\n",
       "    </tr>\n",
       "    <tr>\n",
       "      <th>4</th>\n",
       "      <td>673.0</td>\n",
       "      <td>152.0</td>\n",
       "    </tr>\n",
       "  </tbody>\n",
       "</table>\n",
       "</div>"
      ],
      "text/plain": [
       "   Floor Area (sqft)  Value ($1000)\n",
       "0              665.0          161.0\n",
       "1              442.0           83.0\n",
       "2              302.0           53.0\n",
       "3              336.0           57.0\n",
       "4              673.0          152.0"
      ]
     },
     "execution_count": 26,
     "metadata": {},
     "output_type": "execute_result"
    }
   ],
   "source": [
    "import numpy as np \n",
    "import pandas as pd \n",
    "import matplotlib.pyplot as plt\n",
    "from sklearn.linear_model import LinearRegression\n",
    "from sklearn.model_selection import train_test_split\n",
    "from sklearn.metrics import mean_squared_error, r2_score \n",
    "#step1 Loading data\n",
    "housing =pd.read_csv(\"housing.csv\")\n",
    "#step2 Examine the data\n",
    "housing.head()"
   ]
  },
  {
   "cell_type": "code",
   "execution_count": 27,
   "metadata": {},
   "outputs": [
    {
     "data": {
      "text/plain": [
       "Floor Area (sqft)    0\n",
       "Value ($1000)        0\n",
       "dtype: int64"
      ]
     },
     "execution_count": 27,
     "metadata": {},
     "output_type": "execute_result"
    }
   ],
   "source": [
    "housing.isnull().sum()"
   ]
  },
  {
   "cell_type": "code",
   "execution_count": 28,
   "metadata": {},
   "outputs": [],
   "source": [
    "X = housing[['Floor Area (sqft)']]\n",
    "y = housing['Value ($1000)']\n",
    "X_train, X_test, y_train, y_test = train_test_split(X, y, test_size=0.2, random_state=42)"
   ]
  },
  {
   "cell_type": "code",
   "execution_count": 29,
   "metadata": {},
   "outputs": [
    {
     "data": {
      "text/plain": [
       "Text(0, 0.5, 'Price in $1000s')"
      ]
     },
     "execution_count": 29,
     "metadata": {},
     "output_type": "execute_result"
    },
    {
     "data": {
      "image/png": "[encoded data removed]",
      "text/plain": [
       "<Figure size 640x480 with 1 Axes>"
      ]
     },
     "metadata": {},
     "output_type": "display_data"
    }
   ],
   "source": [
    "plt.scatter(X_train['Floor Area (sqft)'], y_train, s=10)\n",
    "plt.title('Housing Price vs Floor Area')\n",
    "plt.xlabel('Floor Area (sqft)')\n",
    "plt.ylabel('Price in $1000s')"
   ]
  },
  {
   "cell_type": "markdown",
   "metadata": {},
   "source": [
    "Classification\n",
    "\n",
    "Classification is similar to regression except that instead of predicting continuous values,it is concerned with prediction of discrete values.\n",
    "Ex: Prediciting emails that is spam or non-spam Prediciting animals whether it is cat or dog or others\n",
    "Machine Learning algorithms for classifictaion 1.Decision tree 2.Random forest 3.Support vector Machine(SVM) 4.Logistic Regression"
   ]
  },
  {
   "cell_type": "markdown",
   "metadata": {},
   "source": [
    "Gini impurity = 1- Sum of P(k)^2 for all the classes\n",
    "    where P(k) stands for the proportion of instances that belongs to class k in a particular subset."
   ]
  },
  {
   "cell_type": "markdown",
   "metadata": {},
   "source": [
    "Random forest algorithm\n",
    "_______________________\n",
    "\n",
    "* The decision tree algorithm is an intuitive algorithm that is very easy to interpret,but they tend to be unstable.\n",
    "* That is a slight change in dataset can significantly change the tree structure,hence decision trees are relatively inaccurate when making predictions.\n",
    "* To resolve the above issue use an ensemble of decision trees to make multiple predictions and return the final prediction  based on an aggregate function.\n",
    "* This approach is calle"
   ]
  },
  {
   "cell_type": "code",
   "execution_count": null,
   "metadata": {},
   "outputs": [],
   "source": []
  }
 ],
 "metadata": {
  "kernelspec": {
   "display_name": "Python 3",
   "language": "python",
   "name": "python3"
  },
  "language_info": {
   "codemirror_mode": {
    "name": "ipython",
    "version": 3
   },
   "file_extension": ".py",
   "mimetype": "text/x-python",
   "name": "python",
   "nbconvert_exporter": "python",
   "pygments_lexer": "ipython3",
   "version": "3.10.13"
  }
 },
 "nbformat": 4,
 "nbformat_minor": 2
}
